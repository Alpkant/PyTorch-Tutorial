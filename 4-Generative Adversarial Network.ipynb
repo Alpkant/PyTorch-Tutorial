{
 "cells": [
  {
   "cell_type": "markdown",
   "metadata": {},
   "source": [
    "This notebook is showing a more advanced topic. It will show how a GAN is trained in general.  \n",
    "Also it is a good example for different kind of training loops."
   ]
  },
  {
   "cell_type": "code",
   "execution_count": 9,
   "metadata": {},
   "outputs": [],
   "source": [
    "import os\n",
    "import torch\n",
    "import torchvision\n",
    "import torch.nn as nn\n",
    "from torchvision import transforms\n",
    "from torchvision.utils import save_image\n",
    "\n",
    "\n",
    "# Device configuration\n",
    "device = torch.device('cuda' if torch.cuda.is_available() else 'cpu')\n",
    "\n",
    "# Hyper-parameters\n",
    "latent_size = 64\n",
    "hidden_size = 256\n",
    "image_size = 784\n",
    "num_epochs = 10\n",
    "batch_size = 100\n",
    "sample_dir = 'samples'\n",
    "\n",
    "# Create a directory if not exists\n",
    "if not os.path.exists(sample_dir):\n",
    "    os.makedirs(sample_dir)\n"
   ]
  },
  {
   "cell_type": "code",
   "execution_count": 10,
   "metadata": {},
   "outputs": [],
   "source": [
    "transform = transforms.Compose([\n",
    "                transforms.ToTensor(),\n",
    "                transforms.Normalize(mean=[0.5],   # 1 channel for greyscale channels\n",
    "                                     std=[0.5])])\n",
    "\n",
    "# MNIST dataset\n",
    "mnist = torchvision.datasets.MNIST(root='data/',\n",
    "                                   train=True,\n",
    "                                   transform=transform,\n",
    "                                   download=True)\n",
    "\n",
    "# Data loader\n",
    "data_loader = torch.utils.data.DataLoader(dataset=mnist,\n",
    "                                          batch_size=batch_size, \n",
    "                                          shuffle=True)\n"
   ]
  },
  {
   "cell_type": "markdown",
   "metadata": {},
   "source": [
    "We will define a basic Discriminator and Generator  \n",
    "We use MNIST so 1 channel input is enough for our purpose.\n",
    "For images you only change the model and loss rest is the same."
   ]
  },
  {
   "cell_type": "code",
   "execution_count": 11,
   "metadata": {},
   "outputs": [],
   "source": [
    "# Discriminator\n",
    "D = nn.Sequential(\n",
    "    nn.Linear(image_size, hidden_size),\n",
    "    nn.LeakyReLU(0.2),\n",
    "    nn.Linear(hidden_size, hidden_size),\n",
    "    nn.LeakyReLU(0.2),\n",
    "    nn.Linear(hidden_size, 1),\n",
    "    nn.Sigmoid())\n",
    "\n",
    "# Generator \n",
    "G = nn.Sequential(\n",
    "    nn.Linear(latent_size, hidden_size),\n",
    "    nn.ReLU(),\n",
    "    nn.Linear(hidden_size, hidden_size),\n",
    "    nn.ReLU(),\n",
    "    nn.Linear(hidden_size, image_size),\n",
    "    nn.Tanh())"
   ]
  },
  {
   "cell_type": "code",
   "execution_count": 12,
   "metadata": {},
   "outputs": [],
   "source": [
    "D = D.to(device)\n",
    "G = G.to(device)"
   ]
  },
  {
   "cell_type": "code",
   "execution_count": 13,
   "metadata": {},
   "outputs": [],
   "source": [
    "# Binary cross entropy loss \n",
    "criterion = nn.BCELoss()\n",
    "# We train two networks so we will use two different optimizers\n",
    "# You can use different optimizers with different learning rates as you want.\n",
    "d_optimizer = torch.optim.Adam(D.parameters(), lr=0.0002)\n",
    "g_optimizer = torch.optim.Adam(G.parameters(), lr=0.0002)\n",
    "\n",
    "# Some useful functions\n",
    "def denorm(x):\n",
    "    out = (x + 1) / 2\n",
    "    return out.clamp(0, 1)\n",
    "\n",
    "def reset_grad():\n",
    "    d_optimizer.zero_grad()\n",
    "    g_optimizer.zero_grad()"
   ]
  },
  {
   "cell_type": "markdown",
   "metadata": {},
   "source": [
    "GANS take much more time to train then classification networks. So If you have time train it 200 or more epochs otherwise the results will look bad."
   ]
  },
  {
   "cell_type": "code",
   "execution_count": 14,
   "metadata": {},
   "outputs": [
    {
     "name": "stdout",
     "output_type": "stream",
     "text": [
      "Epoch [0/10], Step [200/600], d_loss: 0.0567, g_loss: 3.9513, D(x): 0.99, D(G(z)): 0.05\n",
      "Epoch [0/10], Step [400/600], d_loss: 0.1364, g_loss: 6.0873, D(x): 0.96, D(G(z)): 0.03\n",
      "Epoch [0/10], Step [600/600], d_loss: 0.0346, g_loss: 4.9357, D(x): 0.99, D(G(z)): 0.02\n",
      "Epoch [1/10], Step [200/600], d_loss: 0.0792, g_loss: 4.5170, D(x): 0.99, D(G(z)): 0.06\n",
      "Epoch [1/10], Step [400/600], d_loss: 0.5643, g_loss: 3.4893, D(x): 0.91, D(G(z)): 0.30\n",
      "Epoch [1/10], Step [600/600], d_loss: 0.2267, g_loss: 4.9135, D(x): 0.91, D(G(z)): 0.04\n",
      "Epoch [2/10], Step [200/600], d_loss: 0.1773, g_loss: 3.4564, D(x): 0.96, D(G(z)): 0.11\n",
      "Epoch [2/10], Step [400/600], d_loss: 0.3057, g_loss: 3.8531, D(x): 0.85, D(G(z)): 0.03\n",
      "Epoch [2/10], Step [600/600], d_loss: 1.7993, g_loss: 1.2130, D(x): 0.48, D(G(z)): 0.21\n",
      "Epoch [3/10], Step [200/600], d_loss: 0.1088, g_loss: 3.5371, D(x): 0.99, D(G(z)): 0.09\n",
      "Epoch [3/10], Step [400/600], d_loss: 0.8496, g_loss: 2.8580, D(x): 0.74, D(G(z)): 0.21\n",
      "Epoch [3/10], Step [600/600], d_loss: 0.5081, g_loss: 3.7100, D(x): 0.82, D(G(z)): 0.11\n",
      "Epoch [4/10], Step [200/600], d_loss: 0.4914, g_loss: 4.6198, D(x): 0.89, D(G(z)): 0.19\n",
      "Epoch [4/10], Step [400/600], d_loss: 0.2031, g_loss: 4.2252, D(x): 0.92, D(G(z)): 0.06\n",
      "Epoch [4/10], Step [600/600], d_loss: 0.0855, g_loss: 6.0968, D(x): 0.97, D(G(z)): 0.04\n",
      "Epoch [5/10], Step [200/600], d_loss: 0.1646, g_loss: 3.4282, D(x): 0.94, D(G(z)): 0.04\n",
      "Epoch [5/10], Step [400/600], d_loss: 0.1459, g_loss: 3.9848, D(x): 0.98, D(G(z)): 0.11\n",
      "Epoch [5/10], Step [600/600], d_loss: 0.1392, g_loss: 3.4597, D(x): 0.95, D(G(z)): 0.04\n",
      "Epoch [6/10], Step [200/600], d_loss: 0.0711, g_loss: 4.8223, D(x): 0.99, D(G(z)): 0.06\n",
      "Epoch [6/10], Step [400/600], d_loss: 0.1135, g_loss: 3.9690, D(x): 0.97, D(G(z)): 0.07\n",
      "Epoch [6/10], Step [600/600], d_loss: 0.1983, g_loss: 4.1615, D(x): 0.92, D(G(z)): 0.03\n",
      "Epoch [7/10], Step [200/600], d_loss: 0.3303, g_loss: 3.4504, D(x): 0.91, D(G(z)): 0.04\n",
      "Epoch [7/10], Step [400/600], d_loss: 0.3464, g_loss: 4.3352, D(x): 0.92, D(G(z)): 0.08\n",
      "Epoch [7/10], Step [600/600], d_loss: 0.2824, g_loss: 8.7333, D(x): 0.97, D(G(z)): 0.11\n",
      "Epoch [8/10], Step [200/600], d_loss: 0.3268, g_loss: 3.4445, D(x): 0.91, D(G(z)): 0.08\n",
      "Epoch [8/10], Step [400/600], d_loss: 0.3669, g_loss: 4.8682, D(x): 0.95, D(G(z)): 0.19\n",
      "Epoch [8/10], Step [600/600], d_loss: 0.2966, g_loss: 2.7645, D(x): 0.93, D(G(z)): 0.12\n",
      "Epoch [9/10], Step [200/600], d_loss: 0.4828, g_loss: 3.0494, D(x): 0.88, D(G(z)): 0.12\n",
      "Epoch [9/10], Step [400/600], d_loss: 0.3203, g_loss: 3.5852, D(x): 0.95, D(G(z)): 0.17\n",
      "Epoch [9/10], Step [600/600], d_loss: 0.2533, g_loss: 4.6648, D(x): 0.90, D(G(z)): 0.03\n"
     ]
    }
   ],
   "source": [
    "\n",
    "# Start training\n",
    "total_step = len(data_loader)\n",
    "for epoch in range(num_epochs):\n",
    "    for i, (images, _) in enumerate(data_loader):\n",
    "        images = images.reshape(batch_size, -1).to(device)\n",
    "        \n",
    "        # Create the labels which are later used as input for the BCE loss\n",
    "        real_labels = torch.ones(batch_size, 1).to(device)\n",
    "        fake_labels = torch.zeros(batch_size, 1).to(device)\n",
    "\n",
    "        # ================================================================== #\n",
    "        #                      Train the discriminator                       #\n",
    "        # ================================================================== #\n",
    "\n",
    "        # Compute BCE_Loss using real images where BCE_Loss(x, y): - y * log(D(x)) - (1-y) * log(1 - D(x))\n",
    "        # Second term of the loss is always zero since real_labels == 1\n",
    "        outputs = D(images)\n",
    "        d_loss_real = criterion(outputs, real_labels)\n",
    "        real_score = outputs\n",
    "        \n",
    "        # Compute BCELoss using fake images\n",
    "        # First term of the loss is always zero since fake_labels == 0\n",
    "        z = torch.randn(batch_size, latent_size).to(device)\n",
    "        fake_images = G(z)\n",
    "        outputs = D(fake_images)\n",
    "        d_loss_fake = criterion(outputs, fake_labels)\n",
    "        fake_score = outputs\n",
    "        \n",
    "        # Backprop and optimize\n",
    "        d_loss = d_loss_real + d_loss_fake\n",
    "        reset_grad()\n",
    "        d_loss.backward()\n",
    "        d_optimizer.step()\n",
    "        \n",
    "        # ================================================================== #\n",
    "        #                        Train the generator                         #\n",
    "        # ================================================================== #\n",
    "\n",
    "        # Compute loss with fake images\n",
    "        z = torch.randn(batch_size, latent_size).to(device)\n",
    "        fake_images = G(z)\n",
    "        outputs = D(fake_images)\n",
    "        \n",
    "        # We train G to maximize log(D(G(z)) instead of minimizing log(1-D(G(z)))\n",
    "        # For the reason, see the last paragraph of section 3. https://arxiv.org/pdf/1406.2661.pdf\n",
    "        g_loss = criterion(outputs, real_labels)\n",
    "        \n",
    "        # Backprop and optimize\n",
    "        reset_grad()\n",
    "        g_loss.backward()\n",
    "        g_optimizer.step()\n",
    "        \n",
    "        if (i+1) % 200 == 0:\n",
    "            print('Epoch [{}/{}], Step [{}/{}], d_loss: {:.4f}, g_loss: {:.4f}, D(x): {:.2f}, D(G(z)): {:.2f}' \n",
    "                  .format(epoch, num_epochs, i+1, total_step, d_loss.item(), g_loss.item(), \n",
    "                          real_score.mean().item(), fake_score.mean().item()))\n",
    "    \n",
    "    # Save real images\n",
    "    if (epoch+1) == 1:\n",
    "        images = images.reshape(images.size(0), 1, 28, 28)\n",
    "        save_image(denorm(images), os.path.join(sample_dir, 'real_images.png'))\n",
    "    \n",
    "    # Save sampled images\n",
    "    fake_images = fake_images.reshape(fake_images.size(0), 1, 28, 28)\n",
    "    save_image(denorm(fake_images), os.path.join(sample_dir, 'fake_images-{}.png'.format(epoch+1)))\n",
    "\n",
    "# Save the model checkpoints \n",
    "torch.save(G.state_dict(), 'G.ckpt')\n",
    "torch.save(D.state_dict(), 'D.ckpt')"
   ]
  },
  {
   "cell_type": "code",
   "execution_count": null,
   "metadata": {},
   "outputs": [],
   "source": []
  }
 ],
 "metadata": {
  "kernelspec": {
   "display_name": "Python 3",
   "language": "python",
   "name": "python3"
  },
  "language_info": {
   "codemirror_mode": {
    "name": "ipython",
    "version": 3
   },
   "file_extension": ".py",
   "mimetype": "text/x-python",
   "name": "python",
   "nbconvert_exporter": "python",
   "pygments_lexer": "ipython3",
   "version": "3.8.5"
  }
 },
 "nbformat": 4,
 "nbformat_minor": 4
}
