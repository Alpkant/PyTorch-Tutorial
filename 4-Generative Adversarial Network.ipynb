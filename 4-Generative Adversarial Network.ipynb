{
 "cells": [
  {
   "cell_type": "markdown",
   "metadata": {},
   "source": [
    "This notebook is showing a more advanced topic. It will show how a GAN is trained in general.  \n",
    "Also it is a good example for different kind of training loops."
   ]
  },
  {
   "cell_type": "code",
   "execution_count": 1,
   "metadata": {},
   "outputs": [
    {
     "name": "stdout",
     "output_type": "stream",
     "text": [
      "cuda\n"
     ]
    }
   ],
   "source": [
    "import os\n",
    "import torch\n",
    "import torchvision\n",
    "import torch.nn as nn\n",
    "from torchvision import transforms\n",
    "from torchvision.utils import save_image\n",
    "\n",
    "\n",
    "# Device configuration\n",
    "device = torch.device('cuda' if torch.cuda.is_available() else 'cpu')\n",
    "print(device)\n",
    "# Hyper-parameters\n",
    "latent_size = 64\n",
    "hidden_size = 256\n",
    "image_size = 784\n",
    "num_epochs = 10\n",
    "batch_size = 100\n",
    "sample_dir = 'samples'\n",
    "\n",
    "# Create a directory if not exists\n",
    "if not os.path.exists(sample_dir):\n",
    "    os.makedirs(sample_dir)\n"
   ]
  },
  {
   "cell_type": "code",
   "execution_count": 2,
   "metadata": {},
   "outputs": [],
   "source": [
    "transform = transforms.Compose([\n",
    "                transforms.ToTensor(),\n",
    "                transforms.Normalize(mean=[0.5],   # 1 channel for greyscale channels\n",
    "                                     std=[0.5])])\n",
    "\n",
    "# MNIST dataset\n",
    "mnist = torchvision.datasets.MNIST(root='data/',\n",
    "                                   train=True,\n",
    "                                   transform=transform,\n",
    "                                   download=True)\n",
    "\n",
    "# Data loader\n",
    "data_loader = torch.utils.data.DataLoader(dataset=mnist,\n",
    "                                          batch_size=batch_size, \n",
    "                                          shuffle=True)\n"
   ]
  },
  {
   "cell_type": "markdown",
   "metadata": {},
   "source": [
    "We will define a basic Discriminator and Generator  \n",
    "We use MNIST so 1 channel input is enough for our purpose.\n",
    "For images you only change the model and loss rest is the same."
   ]
  },
  {
   "cell_type": "code",
   "execution_count": 3,
   "metadata": {},
   "outputs": [],
   "source": [
    "# Discriminator\n",
    "D = nn.Sequential(\n",
    "    nn.Linear(image_size, hidden_size),\n",
    "    nn.LeakyReLU(0.2),\n",
    "    nn.Linear(hidden_size, hidden_size),\n",
    "    nn.LeakyReLU(0.2),\n",
    "    nn.Linear(hidden_size, 1),\n",
    "    nn.Sigmoid())\n",
    "\n",
    "# Generator \n",
    "G = nn.Sequential(\n",
    "    nn.Linear(latent_size, hidden_size),\n",
    "    nn.ReLU(),\n",
    "    nn.Linear(hidden_size, hidden_size),\n",
    "    nn.ReLU(),\n",
    "    nn.Linear(hidden_size, image_size),\n",
    "    nn.Tanh())"
   ]
  },
  {
   "cell_type": "code",
   "execution_count": 4,
   "metadata": {},
   "outputs": [],
   "source": [
    "D = D.to(device)\n",
    "G = G.to(device)"
   ]
  },
  {
   "cell_type": "code",
   "execution_count": 5,
   "metadata": {},
   "outputs": [],
   "source": [
    "# Binary cross entropy loss \n",
    "criterion = nn.BCELoss()\n",
    "# We train two networks so we will use two different optimizers\n",
    "# You can use different optimizers with different learning rates as you want.\n",
    "d_optimizer = torch.optim.Adam(D.parameters(), lr=0.0002)\n",
    "g_optimizer = torch.optim.Adam(G.parameters(), lr=0.0002)\n",
    "\n",
    "# Some useful functions\n",
    "def denorm(x):\n",
    "    out = (x + 1) / 2\n",
    "    return out.clamp(0, 1)\n",
    "\n",
    "def reset_grad():\n",
    "    d_optimizer.zero_grad()\n",
    "    g_optimizer.zero_grad()"
   ]
  },
  {
   "cell_type": "markdown",
   "metadata": {},
   "source": [
    "GANS take much more time to train then classification networks. So If you have time train it 200 or more epochs otherwise the results will look bad."
   ]
  },
  {
   "cell_type": "code",
   "execution_count": 6,
   "metadata": {},
   "outputs": [
    {
     "name": "stdout",
     "output_type": "stream",
     "text": [
      "Epoch [0/10], Step [200/600], d_loss: 0.0536, g_loss: 4.1829, D(x): 0.99, D(G(z)): 0.04\n",
      "Epoch [0/10], Step [400/600], d_loss: 0.1779, g_loss: 5.5944, D(x): 0.92, D(G(z)): 0.05\n",
      "Epoch [0/10], Step [600/600], d_loss: 0.0487, g_loss: 5.1632, D(x): 0.98, D(G(z)): 0.02\n",
      "Epoch [1/10], Step [200/600], d_loss: 0.0953, g_loss: 4.7809, D(x): 0.96, D(G(z)): 0.04\n",
      "Epoch [1/10], Step [400/600], d_loss: 0.1918, g_loss: 3.4617, D(x): 0.92, D(G(z)): 0.06\n",
      "Epoch [1/10], Step [600/600], d_loss: 0.1561, g_loss: 4.8705, D(x): 0.96, D(G(z)): 0.09\n",
      "Epoch [2/10], Step [200/600], d_loss: 0.7109, g_loss: 3.6815, D(x): 0.88, D(G(z)): 0.37\n",
      "Epoch [2/10], Step [400/600], d_loss: 0.4072, g_loss: 3.8747, D(x): 0.89, D(G(z)): 0.18\n",
      "Epoch [2/10], Step [600/600], d_loss: 1.0063, g_loss: 2.5597, D(x): 0.79, D(G(z)): 0.35\n",
      "Epoch [3/10], Step [200/600], d_loss: 0.7765, g_loss: 1.7906, D(x): 0.78, D(G(z)): 0.28\n",
      "Epoch [3/10], Step [400/600], d_loss: 1.0616, g_loss: 2.3095, D(x): 0.79, D(G(z)): 0.38\n",
      "Epoch [3/10], Step [600/600], d_loss: 0.5585, g_loss: 2.1806, D(x): 0.77, D(G(z)): 0.10\n",
      "Epoch [4/10], Step [200/600], d_loss: 1.1807, g_loss: 1.8197, D(x): 0.72, D(G(z)): 0.39\n",
      "Epoch [4/10], Step [400/600], d_loss: 0.3503, g_loss: 3.1773, D(x): 0.88, D(G(z)): 0.12\n",
      "Epoch [4/10], Step [600/600], d_loss: 0.1508, g_loss: 3.6942, D(x): 0.95, D(G(z)): 0.07\n",
      "Epoch [5/10], Step [200/600], d_loss: 0.0869, g_loss: 5.0097, D(x): 0.95, D(G(z)): 0.02\n",
      "Epoch [5/10], Step [400/600], d_loss: 0.0883, g_loss: 3.6914, D(x): 0.98, D(G(z)): 0.06\n",
      "Epoch [5/10], Step [600/600], d_loss: 0.1195, g_loss: 5.5611, D(x): 0.98, D(G(z)): 0.06\n",
      "Epoch [6/10], Step [200/600], d_loss: 0.2237, g_loss: 3.1081, D(x): 0.93, D(G(z)): 0.06\n",
      "Epoch [6/10], Step [400/600], d_loss: 0.3043, g_loss: 3.8912, D(x): 0.91, D(G(z)): 0.07\n",
      "Epoch [6/10], Step [600/600], d_loss: 0.0647, g_loss: 4.8448, D(x): 0.98, D(G(z)): 0.03\n",
      "Epoch [7/10], Step [200/600], d_loss: 0.2069, g_loss: 4.6994, D(x): 0.97, D(G(z)): 0.08\n",
      "Epoch [7/10], Step [400/600], d_loss: 0.1906, g_loss: 3.7140, D(x): 0.95, D(G(z)): 0.03\n",
      "Epoch [7/10], Step [600/600], d_loss: 0.1319, g_loss: 5.6697, D(x): 0.98, D(G(z)): 0.04\n",
      "Epoch [8/10], Step [200/600], d_loss: 0.1031, g_loss: 6.8627, D(x): 0.97, D(G(z)): 0.05\n",
      "Epoch [8/10], Step [400/600], d_loss: 0.2706, g_loss: 5.5040, D(x): 0.92, D(G(z)): 0.02\n",
      "Epoch [8/10], Step [600/600], d_loss: 0.0989, g_loss: 5.1670, D(x): 0.95, D(G(z)): 0.02\n",
      "Epoch [9/10], Step [200/600], d_loss: 0.1015, g_loss: 5.9368, D(x): 0.96, D(G(z)): 0.02\n",
      "Epoch [9/10], Step [400/600], d_loss: 0.2422, g_loss: 6.2393, D(x): 0.97, D(G(z)): 0.12\n",
      "Epoch [9/10], Step [600/600], d_loss: 0.0629, g_loss: 9.1329, D(x): 0.98, D(G(z)): 0.00\n"
     ]
    }
   ],
   "source": [
    "# Start training\n",
    "total_step = len(data_loader)\n",
    "for epoch in range(num_epochs):\n",
    "    for i, (images, _) in enumerate(data_loader):\n",
    "        images = images.reshape(batch_size, -1).to(device)\n",
    "        \n",
    "        # Create the labels which are later used as input for the BCE loss\n",
    "        real_labels = torch.ones(batch_size, 1).to(device)\n",
    "        fake_labels = torch.zeros(batch_size, 1).to(device)\n",
    "\n",
    "        # ================================================================== #\n",
    "        #                      Train the discriminator                       #\n",
    "        # ================================================================== #\n",
    "\n",
    "        # Compute BCE_Loss using real images where BCE_Loss(x, y): - y * log(D(x)) - (1-y) * log(1 - D(x))\n",
    "        # Second term of the loss is always zero since real_labels == 1\n",
    "        outputs = D(images)\n",
    "        d_loss_real = criterion(outputs, real_labels)\n",
    "        real_score = outputs\n",
    "        \n",
    "        # Compute BCELoss using fake images\n",
    "        # First term of the loss is always zero since fake_labels == 0\n",
    "        # Create a noise vector for generator\n",
    "        z = torch.randn(batch_size, latent_size).to(device)\n",
    "        # Generate fake images\n",
    "        fake_images = G(z)\n",
    "        # Feed fake images to discriminator\n",
    "        outputs = D(fake_images)\n",
    "        # Calculate loss\n",
    "        d_loss_fake = criterion(outputs, fake_labels)\n",
    "        fake_score = outputs\n",
    "        \n",
    "        # Backprop and optimize\n",
    "        d_loss = d_loss_real + d_loss_fake\n",
    "        reset_grad()\n",
    "        d_loss.backward()\n",
    "        d_optimizer.step()\n",
    "        \n",
    "        # ================================================================== #\n",
    "        #                        Train the generator                         #\n",
    "        # ================================================================== #\n",
    "\n",
    "        # Compute loss with fake images\n",
    "        z = torch.randn(batch_size, latent_size).to(device)\n",
    "        fake_images = G(z)\n",
    "        outputs = D(fake_images)\n",
    "        \n",
    "        # We train G to maximize log(D(G(z)) instead of minimizing log(1-D(G(z)))\n",
    "        # For the reason, see the last paragraph of section 3. https://arxiv.org/pdf/1406.2661.pdf\n",
    "        g_loss = criterion(outputs, real_labels)\n",
    "        \n",
    "        # Backprop and optimize\n",
    "        reset_grad()\n",
    "        g_loss.backward()\n",
    "        g_optimizer.step()\n",
    "        \n",
    "        if (i+1) % 200 == 0:\n",
    "            print('Epoch [{}/{}], Step [{}/{}], d_loss: {:.4f}, g_loss: {:.4f}, D(x): {:.2f}, D(G(z)): {:.2f}' \n",
    "                  .format(epoch, num_epochs, i+1, total_step, d_loss.item(), g_loss.item(), \n",
    "                          real_score.mean().item(), fake_score.mean().item()))\n",
    "    \n",
    "    # Save real images\n",
    "    if (epoch+1) == 1:\n",
    "        images = images.reshape(images.size(0), 1, 28, 28)\n",
    "        save_image(denorm(images), os.path.join(sample_dir, 'real_images.png'))\n",
    "    \n",
    "    # Save sampled images\n",
    "    fake_images = fake_images.reshape(fake_images.size(0), 1, 28, 28)\n",
    "    save_image(denorm(fake_images), os.path.join(sample_dir, 'fake_images-{}.png'.format(epoch+1)))\n",
    "\n",
    "# Save the model checkpoints \n",
    "torch.save(G.state_dict(), 'G.ckpt')\n",
    "torch.save(D.state_dict(), 'D.ckpt')"
   ]
  },
  {
   "cell_type": "code",
   "execution_count": null,
   "metadata": {},
   "outputs": [],
   "source": []
  }
 ],
 "metadata": {
  "kernelspec": {
   "display_name": "Python 3",
   "language": "python",
   "name": "python3"
  },
  "language_info": {
   "codemirror_mode": {
    "name": "ipython",
    "version": 3
   },
   "file_extension": ".py",
   "mimetype": "text/x-python",
   "name": "python",
   "nbconvert_exporter": "python",
   "pygments_lexer": "ipython3",
   "version": "3.8.5"
  }
 },
 "nbformat": 4,
 "nbformat_minor": 4
}
